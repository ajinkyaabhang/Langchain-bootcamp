{
  "nbformat": 4,
  "nbformat_minor": 0,
  "metadata": {
    "colab": {
      "provenance": []
    },
    "kernelspec": {
      "name": "python3",
      "display_name": "Python 3"
    },
    "language_info": {
      "name": "python"
    }
  },
  "cells": [
    {
      "cell_type": "code",
      "execution_count": null,
      "metadata": {
        "id": "jU8SV0vQQNbH"
      },
      "outputs": [],
      "source": [
        "import os\n",
        "os.environ[\"OPENAI_API_KEY\"] = \"sk-proj\""
      ]
    },
    {
      "cell_type": "code",
      "source": [
        "!pip install -q langchain-openai langchain-core requests"
      ],
      "metadata": {
        "colab": {
          "base_uri": "https://localhost:8080/"
        },
        "id": "BhsAIGxgQh2H",
        "outputId": "c42ce4ec-540c-46a1-fbd8-42d24de4bd41"
      },
      "execution_count": null,
      "outputs": [
        {
          "output_type": "stream",
          "name": "stdout",
          "text": [
            "\u001b[?25l   \u001b[90m━━━━━━━━━━━━━━━━━━━━━━━━━━━━━━━━━━━━━━━━\u001b[0m \u001b[32m0.0/62.4 kB\u001b[0m \u001b[31m?\u001b[0m eta \u001b[36m-:--:--\u001b[0m\r\u001b[2K   \u001b[90m━━━━━━━━━━━━━━━━━━━━━━━━━━━━━━━━━━━━━━━━\u001b[0m \u001b[32m62.4/62.4 kB\u001b[0m \u001b[31m1.5 MB/s\u001b[0m eta \u001b[36m0:00:00\u001b[0m\n",
            "\u001b[?25h\u001b[?25l   \u001b[90m━━━━━━━━━━━━━━━━━━━━━━━━━━━━━━━━━━━━━━━━\u001b[0m \u001b[32m0.0/1.2 MB\u001b[0m \u001b[31m?\u001b[0m eta \u001b[36m-:--:--\u001b[0m\r\u001b[2K   \u001b[91m━━━━━━━\u001b[0m\u001b[91m╸\u001b[0m\u001b[90m━━━━━━━━━━━━━━━━━━━━━━━━━━━━━━━━\u001b[0m \u001b[32m0.2/1.2 MB\u001b[0m \u001b[31m6.5 MB/s\u001b[0m eta \u001b[36m0:00:01\u001b[0m\r\u001b[2K   \u001b[91m━━━━━━━━━━━━━━━━━━━━━━━━━━━━━━━━━━━━━━━\u001b[0m\u001b[91m╸\u001b[0m \u001b[32m1.2/1.2 MB\u001b[0m \u001b[31m17.5 MB/s\u001b[0m eta \u001b[36m0:00:01\u001b[0m\r\u001b[2K   \u001b[90m━━━━━━━━━━━━━━━━━━━━━━━━━━━━━━━━━━━━━━━━\u001b[0m \u001b[32m1.2/1.2 MB\u001b[0m \u001b[31m14.5 MB/s\u001b[0m eta \u001b[36m0:00:00\u001b[0m\n",
            "\u001b[?25h"
          ]
        }
      ]
    },
    {
      "cell_type": "code",
      "source": [
        "from langchain_openai import ChatOpenAI\n",
        "from langchain_core.tools import tool\n",
        "from langchain_core.messages import HumanMessage\n",
        "import requests"
      ],
      "metadata": {
        "id": "uWMBgyx1Q3Ek"
      },
      "execution_count": null,
      "outputs": []
    },
    {
      "cell_type": "code",
      "source": [
        "# tool create\n",
        "\n",
        "@tool\n",
        "def multiply(a: int, b: int) -> int:\n",
        "  \"\"\"Given 2 numbers a and b this tool returns their product\"\"\"\n",
        "  return a * b"
      ],
      "metadata": {
        "id": "Ppi8jSXxT6EA"
      },
      "execution_count": null,
      "outputs": []
    },
    {
      "cell_type": "code",
      "source": [
        "print(multiply.invoke({'a':3, 'b':4}))"
      ],
      "metadata": {
        "colab": {
          "base_uri": "https://localhost:8080/"
        },
        "id": "u-eRpimtrUgc",
        "outputId": "2f13d14b-1a35-4a5b-b058-bd7be9c11864"
      },
      "execution_count": null,
      "outputs": [
        {
          "output_type": "stream",
          "name": "stdout",
          "text": [
            "12\n"
          ]
        }
      ]
    },
    {
      "cell_type": "code",
      "source": [
        "multiply.name"
      ],
      "metadata": {
        "colab": {
          "base_uri": "https://localhost:8080/",
          "height": 35
        },
        "id": "SSi7Xn0jrZ5Y",
        "outputId": "5f20707a-66ce-4c06-b4d4-ec6a96e2c28b"
      },
      "execution_count": null,
      "outputs": [
        {
          "output_type": "execute_result",
          "data": {
            "text/plain": [
              "'multiply'"
            ],
            "application/vnd.google.colaboratory.intrinsic+json": {
              "type": "string"
            }
          },
          "metadata": {},
          "execution_count": 7
        }
      ]
    },
    {
      "cell_type": "code",
      "source": [
        "multiply.description"
      ],
      "metadata": {
        "colab": {
          "base_uri": "https://localhost:8080/",
          "height": 35
        },
        "id": "vNcN0ngarb9c",
        "outputId": "418e59c4-9c5e-49a1-88a1-003ae71237cd"
      },
      "execution_count": null,
      "outputs": [
        {
          "output_type": "execute_result",
          "data": {
            "text/plain": [
              "'Given 2 numbers a and b this tool returns their product'"
            ],
            "application/vnd.google.colaboratory.intrinsic+json": {
              "type": "string"
            }
          },
          "metadata": {},
          "execution_count": 8
        }
      ]
    },
    {
      "cell_type": "code",
      "source": [
        "multiply.args"
      ],
      "metadata": {
        "colab": {
          "base_uri": "https://localhost:8080/"
        },
        "id": "3ZdJuKhWrd6w",
        "outputId": "0723ec5d-3e54-4682-9a56-8aca2f004853"
      },
      "execution_count": null,
      "outputs": [
        {
          "output_type": "execute_result",
          "data": {
            "text/plain": [
              "{'a': {'title': 'A', 'type': 'integer'},\n",
              " 'b': {'title': 'B', 'type': 'integer'}}"
            ]
          },
          "metadata": {},
          "execution_count": 9
        }
      ]
    },
    {
      "cell_type": "code",
      "source": [
        "# tool binding"
      ],
      "metadata": {
        "id": "dF6yzEiurfiA"
      },
      "execution_count": null,
      "outputs": []
    },
    {
      "cell_type": "code",
      "source": [
        "llm = ChatOpenAI()"
      ],
      "metadata": {
        "id": "goFX0Z4PrjN7"
      },
      "execution_count": null,
      "outputs": []
    },
    {
      "cell_type": "code",
      "source": [
        "llm_with_tools = llm.bind_tools([multiply])"
      ],
      "metadata": {
        "id": "v3x5N-V6rlHe"
      },
      "execution_count": null,
      "outputs": []
    },
    {
      "cell_type": "code",
      "source": [
        "llm_with_tools.invoke('Hi how are you')"
      ],
      "metadata": {
        "colab": {
          "base_uri": "https://localhost:8080/"
        },
        "id": "6aLDyLhnrrxu",
        "outputId": "96339f81-bf33-46f4-b680-6f1c574d8d3d"
      },
      "execution_count": null,
      "outputs": [
        {
          "output_type": "execute_result",
          "data": {
            "text/plain": [
              "AIMessage(content=\"Hello! I'm here and ready to help. How can I assist you today?\", additional_kwargs={'refusal': None}, response_metadata={'token_usage': {'completion_tokens': 19, 'prompt_tokens': 58, 'total_tokens': 77, 'completion_tokens_details': {'accepted_prediction_tokens': 0, 'audio_tokens': 0, 'reasoning_tokens': 0, 'rejected_prediction_tokens': 0}, 'prompt_tokens_details': {'audio_tokens': 0, 'cached_tokens': 0}}, 'model_name': 'gpt-3.5-turbo-0125', 'system_fingerprint': None, 'id': 'chatcmpl-BQIRuqxJkNETff67J61PT3przQiNo', 'finish_reason': 'stop', 'logprobs': None}, id='run-c90f126e-325d-49ab-b4b6-50da7d6e0ba8-0', usage_metadata={'input_tokens': 58, 'output_tokens': 19, 'total_tokens': 77, 'input_token_details': {'audio': 0, 'cache_read': 0}, 'output_token_details': {'audio': 0, 'reasoning': 0}})"
            ]
          },
          "metadata": {},
          "execution_count": 13
        }
      ]
    },
    {
      "cell_type": "code",
      "source": [
        "query = HumanMessage('can you multiply 3 with 1000')"
      ],
      "metadata": {
        "id": "0EEB2dwtzXmS"
      },
      "execution_count": null,
      "outputs": []
    },
    {
      "cell_type": "code",
      "source": [
        "messages = [query]"
      ],
      "metadata": {
        "id": "nNAUAM_Szb27"
      },
      "execution_count": null,
      "outputs": []
    },
    {
      "cell_type": "code",
      "source": [
        "messages"
      ],
      "metadata": {
        "colab": {
          "base_uri": "https://localhost:8080/"
        },
        "id": "-n2U76sWzh1T",
        "outputId": "d5624476-67ab-4a2b-e7cb-4e8b78476e36"
      },
      "execution_count": null,
      "outputs": [
        {
          "output_type": "execute_result",
          "data": {
            "text/plain": [
              "[HumanMessage(content='can you multiply 3 with 1000', additional_kwargs={}, response_metadata={})]"
            ]
          },
          "metadata": {},
          "execution_count": 16
        }
      ]
    },
    {
      "cell_type": "code",
      "source": [
        "result = llm_with_tools.invoke(messages)"
      ],
      "metadata": {
        "id": "vXk2J6QXuaTM"
      },
      "execution_count": null,
      "outputs": []
    },
    {
      "cell_type": "code",
      "source": [
        "messages.append(result)"
      ],
      "metadata": {
        "id": "wXBI8YbUynm4"
      },
      "execution_count": null,
      "outputs": []
    },
    {
      "cell_type": "code",
      "source": [
        "messages"
      ],
      "metadata": {
        "colab": {
          "base_uri": "https://localhost:8080/"
        },
        "id": "VVRqi5IUzqRO",
        "outputId": "95239c44-5d43-474b-b51f-11b0ddf371a3"
      },
      "execution_count": null,
      "outputs": [
        {
          "output_type": "execute_result",
          "data": {
            "text/plain": [
              "[HumanMessage(content='can you multiply 3 with 1000', additional_kwargs={}, response_metadata={}),\n",
              " AIMessage(content='', additional_kwargs={'tool_calls': [{'id': 'call_e9Hzf77hl1VumPX0yjb5nwrB', 'function': {'arguments': '{\"a\":3,\"b\":1000}', 'name': 'multiply'}, 'type': 'function'}], 'refusal': None}, response_metadata={'token_usage': {'completion_tokens': 19, 'prompt_tokens': 63, 'total_tokens': 82, 'completion_tokens_details': {'accepted_prediction_tokens': 0, 'audio_tokens': 0, 'reasoning_tokens': 0, 'rejected_prediction_tokens': 0}, 'prompt_tokens_details': {'audio_tokens': 0, 'cached_tokens': 0}}, 'model_name': 'gpt-3.5-turbo-0125', 'system_fingerprint': None, 'id': 'chatcmpl-BQIRvJ6aOEbf12xqN4OpanjHSrDSL', 'finish_reason': 'tool_calls', 'logprobs': None}, id='run-615accf5-f211-483b-8c76-00c29bf97efb-0', tool_calls=[{'name': 'multiply', 'args': {'a': 3, 'b': 1000}, 'id': 'call_e9Hzf77hl1VumPX0yjb5nwrB', 'type': 'tool_call'}], usage_metadata={'input_tokens': 63, 'output_tokens': 19, 'total_tokens': 82, 'input_token_details': {'audio': 0, 'cache_read': 0}, 'output_token_details': {'audio': 0, 'reasoning': 0}})]"
            ]
          },
          "metadata": {},
          "execution_count": 19
        }
      ]
    },
    {
      "cell_type": "code",
      "source": [
        "tool_result = multiply.invoke(result.tool_calls[0])"
      ],
      "metadata": {
        "id": "vBWmBt2cukKY"
      },
      "execution_count": null,
      "outputs": []
    },
    {
      "cell_type": "code",
      "source": [
        "tool_result"
      ],
      "metadata": {
        "colab": {
          "base_uri": "https://localhost:8080/"
        },
        "id": "hlrs709a0UYJ",
        "outputId": "57c270ca-c2c3-4b5e-cf81-52b8f3afa22c"
      },
      "execution_count": null,
      "outputs": [
        {
          "output_type": "execute_result",
          "data": {
            "text/plain": [
              "ToolMessage(content='3000', name='multiply', tool_call_id='call_e9Hzf77hl1VumPX0yjb5nwrB')"
            ]
          },
          "metadata": {},
          "execution_count": 21
        }
      ]
    },
    {
      "cell_type": "code",
      "source": [
        "messages.append(tool_result)"
      ],
      "metadata": {
        "id": "y-22Hb_GyxBZ"
      },
      "execution_count": null,
      "outputs": []
    },
    {
      "cell_type": "code",
      "source": [
        "messages"
      ],
      "metadata": {
        "colab": {
          "base_uri": "https://localhost:8080/"
        },
        "id": "W9cOgYCYzzrY",
        "outputId": "5af6e8af-c21d-47ba-90c7-1dd6e64d40b6"
      },
      "execution_count": null,
      "outputs": [
        {
          "output_type": "execute_result",
          "data": {
            "text/plain": [
              "[HumanMessage(content='can you multiply 3 with 1000', additional_kwargs={}, response_metadata={}),\n",
              " AIMessage(content='', additional_kwargs={'tool_calls': [{'id': 'call_e9Hzf77hl1VumPX0yjb5nwrB', 'function': {'arguments': '{\"a\":3,\"b\":1000}', 'name': 'multiply'}, 'type': 'function'}], 'refusal': None}, response_metadata={'token_usage': {'completion_tokens': 19, 'prompt_tokens': 63, 'total_tokens': 82, 'completion_tokens_details': {'accepted_prediction_tokens': 0, 'audio_tokens': 0, 'reasoning_tokens': 0, 'rejected_prediction_tokens': 0}, 'prompt_tokens_details': {'audio_tokens': 0, 'cached_tokens': 0}}, 'model_name': 'gpt-3.5-turbo-0125', 'system_fingerprint': None, 'id': 'chatcmpl-BQIRvJ6aOEbf12xqN4OpanjHSrDSL', 'finish_reason': 'tool_calls', 'logprobs': None}, id='run-615accf5-f211-483b-8c76-00c29bf97efb-0', tool_calls=[{'name': 'multiply', 'args': {'a': 3, 'b': 1000}, 'id': 'call_e9Hzf77hl1VumPX0yjb5nwrB', 'type': 'tool_call'}], usage_metadata={'input_tokens': 63, 'output_tokens': 19, 'total_tokens': 82, 'input_token_details': {'audio': 0, 'cache_read': 0}, 'output_token_details': {'audio': 0, 'reasoning': 0}}),\n",
              " ToolMessage(content='3000', name='multiply', tool_call_id='call_e9Hzf77hl1VumPX0yjb5nwrB')]"
            ]
          },
          "metadata": {},
          "execution_count": 23
        }
      ]
    },
    {
      "cell_type": "code",
      "source": [
        "llm_with_tools.invoke(messages).content"
      ],
      "metadata": {
        "colab": {
          "base_uri": "https://localhost:8080/",
          "height": 35
        },
        "id": "ElWievBEz0nt",
        "outputId": "173f57b0-337a-489f-87ed-410f4b017926"
      },
      "execution_count": null,
      "outputs": [
        {
          "output_type": "execute_result",
          "data": {
            "text/plain": [
              "'The product of 3 and 1000 is 3000.'"
            ],
            "application/vnd.google.colaboratory.intrinsic+json": {
              "type": "string"
            }
          },
          "metadata": {},
          "execution_count": 24
        }
      ]
    },
    {
      "cell_type": "code",
      "source": [
        "# tool create\n",
        "from langchain_core.tools import InjectedToolArg\n",
        "from typing import Annotated\n",
        "\n",
        "@tool\n",
        "def get_conversion_factor(base_currency: str, target_currency: str) -> float:\n",
        "  \"\"\"\n",
        "  This function fetches the currency conversion factor between a given base currency and a target currency\n",
        "  \"\"\"\n",
        "  url = f'https://v6.exchangerate-api.com/v6/c754eab14ffab33112e380ca/pair/{base_currency}/{target_currency}'\n",
        "\n",
        "  response = requests.get(url)\n",
        "\n",
        "  return response.json()\n",
        "\n",
        "@tool\n",
        "def convert(base_currency_value: int, conversion_rate: Annotated[float, InjectedToolArg]) -> float:\n",
        "  \"\"\"\n",
        "  given a currency conversion rate this function calculates the target currency value from a given base currency value\n",
        "  \"\"\"\n",
        "\n",
        "  return base_currency_value * conversion_rate\n"
      ],
      "metadata": {
        "id": "m6fTZVbSz9x_"
      },
      "execution_count": null,
      "outputs": []
    },
    {
      "cell_type": "code",
      "source": [
        "convert.args"
      ],
      "metadata": {
        "colab": {
          "base_uri": "https://localhost:8080/"
        },
        "id": "TNIqtU-_DDVv",
        "outputId": "fb3171c5-1370-452c-e7e8-b82040b16644"
      },
      "execution_count": null,
      "outputs": [
        {
          "output_type": "execute_result",
          "data": {
            "text/plain": [
              "{'base_currency_value': {'title': 'Base Currency Value', 'type': 'integer'},\n",
              " 'conversion_rate': {'title': 'Conversion Rate', 'type': 'number'}}"
            ]
          },
          "metadata": {},
          "execution_count": 51
        }
      ]
    },
    {
      "cell_type": "code",
      "source": [
        "get_conversion_factor.invoke({'base_currency':'USD','target_currency':'INR'})"
      ],
      "metadata": {
        "colab": {
          "base_uri": "https://localhost:8080/"
        },
        "id": "nO_FhilZ-DYS",
        "outputId": "de976918-9bbb-4655-ae45-d5af60c2859e"
      },
      "execution_count": null,
      "outputs": [
        {
          "output_type": "execute_result",
          "data": {
            "text/plain": [
              "{'result': 'success',\n",
              " 'documentation': 'https://www.exchangerate-api.com/docs',\n",
              " 'terms_of_use': 'https://www.exchangerate-api.com/terms',\n",
              " 'time_last_update_unix': 1745539201,\n",
              " 'time_last_update_utc': 'Fri, 25 Apr 2025 00:00:01 +0000',\n",
              " 'time_next_update_unix': 1745625601,\n",
              " 'time_next_update_utc': 'Sat, 26 Apr 2025 00:00:01 +0000',\n",
              " 'base_code': 'USD',\n",
              " 'target_code': 'INR',\n",
              " 'conversion_rate': 85.3415}"
            ]
          },
          "metadata": {},
          "execution_count": 52
        }
      ]
    },
    {
      "cell_type": "code",
      "source": [
        "convert.invoke({'base_currency_value':10, 'conversion_rate':85.16})"
      ],
      "metadata": {
        "colab": {
          "base_uri": "https://localhost:8080/"
        },
        "id": "z25u1BbW-G8A",
        "outputId": "c670ba21-d98c-4973-ac66-c27f59bb3a85"
      },
      "execution_count": null,
      "outputs": [
        {
          "output_type": "execute_result",
          "data": {
            "text/plain": [
              "851.5999999999999"
            ]
          },
          "metadata": {},
          "execution_count": 53
        }
      ]
    },
    {
      "cell_type": "code",
      "source": [
        "# tool binding\n",
        "llm = ChatOpenAI()"
      ],
      "metadata": {
        "id": "NzoScebe_ROV"
      },
      "execution_count": null,
      "outputs": []
    },
    {
      "cell_type": "code",
      "source": [
        "llm_with_tools = llm.bind_tools([get_conversion_factor, convert])"
      ],
      "metadata": {
        "id": "l-tazhPJ_gQQ"
      },
      "execution_count": null,
      "outputs": []
    },
    {
      "cell_type": "code",
      "source": [
        "messages = [HumanMessage('What is the conversion factor between INR and USD, and based on that can you convert 10 inr to usd')]"
      ],
      "metadata": {
        "id": "l8yTOagt_lv6"
      },
      "execution_count": null,
      "outputs": []
    },
    {
      "cell_type": "code",
      "source": [
        "messages"
      ],
      "metadata": {
        "colab": {
          "base_uri": "https://localhost:8080/"
        },
        "id": "09KThK4Q_xeG",
        "outputId": "2a245d5d-5479-4149-cedc-2208d6aa5d69"
      },
      "execution_count": null,
      "outputs": [
        {
          "output_type": "execute_result",
          "data": {
            "text/plain": [
              "[HumanMessage(content='What is the conversion factor between INR and USD, and based on that can you convert 10 inr to usd', additional_kwargs={}, response_metadata={})]"
            ]
          },
          "metadata": {},
          "execution_count": 66
        }
      ]
    },
    {
      "cell_type": "code",
      "source": [
        "ai_message = llm_with_tools.invoke(messages)"
      ],
      "metadata": {
        "id": "lYlRZBnv_ySh"
      },
      "execution_count": null,
      "outputs": []
    },
    {
      "cell_type": "code",
      "source": [
        "messages.append(ai_message)"
      ],
      "metadata": {
        "id": "Q5queI56Xy-m"
      },
      "execution_count": null,
      "outputs": []
    },
    {
      "cell_type": "code",
      "source": [
        "ai_message.tool_calls"
      ],
      "metadata": {
        "colab": {
          "base_uri": "https://localhost:8080/"
        },
        "id": "gwqtztEJ_38D",
        "outputId": "12235e2e-a588-47a5-a3db-db971bec8657"
      },
      "execution_count": null,
      "outputs": [
        {
          "output_type": "execute_result",
          "data": {
            "text/plain": [
              "[{'name': 'get_conversion_factor',\n",
              "  'args': {'base_currency': 'INR', 'target_currency': 'USD'},\n",
              "  'id': 'call_4HlgaemYudEGQJhUrSY5bowr',\n",
              "  'type': 'tool_call'},\n",
              " {'name': 'convert',\n",
              "  'args': {'base_currency_value': 10},\n",
              "  'id': 'call_OIwDuBk0uaetu1PC1ZH8KAs8',\n",
              "  'type': 'tool_call'}]"
            ]
          },
          "metadata": {},
          "execution_count": 69
        }
      ]
    },
    {
      "cell_type": "code",
      "source": [
        "import json\n",
        "\n",
        "for tool_call in ai_message.tool_calls:\n",
        "  # execute the 1st tool and get the value of conversion rate\n",
        "  if tool_call['name'] == 'get_conversion_factor':\n",
        "    tool_message1 = get_conversion_factor.invoke(tool_call)\n",
        "    # fetch this conversion rate\n",
        "    conversion_rate = json.loads(tool_message1.content)['conversion_rate']\n",
        "    # append this tool message to messages list\n",
        "    messages.append(tool_message1)\n",
        "  # execute the 2nd tool using the conversion rate from tool 1\n",
        "  if tool_call['name'] == 'convert':\n",
        "    # fetch the current arg\n",
        "    tool_call['args']['conversion_rate'] = conversion_rate\n",
        "    tool_message2 = convert.invoke(tool_call)\n",
        "    messages.append(tool_message2)\n",
        "\n"
      ],
      "metadata": {
        "id": "1RiGaE63Iai5"
      },
      "execution_count": null,
      "outputs": []
    },
    {
      "cell_type": "code",
      "source": [
        "messages"
      ],
      "metadata": {
        "colab": {
          "base_uri": "https://localhost:8080/"
        },
        "id": "5ZVYEJ1tUUQH",
        "outputId": "e293d726-cd17-45c7-973a-f74d23d0790b"
      },
      "execution_count": null,
      "outputs": [
        {
          "output_type": "execute_result",
          "data": {
            "text/plain": [
              "[HumanMessage(content='What is the conversion factor between INR and USD, and based on that can you convert 10 inr to usd', additional_kwargs={}, response_metadata={}),\n",
              " AIMessage(content='', additional_kwargs={'tool_calls': [{'id': 'call_4HlgaemYudEGQJhUrSY5bowr', 'function': {'arguments': '{\"base_currency\": \"INR\", \"target_currency\": \"USD\"}', 'name': 'get_conversion_factor'}, 'type': 'function'}, {'id': 'call_OIwDuBk0uaetu1PC1ZH8KAs8', 'function': {'arguments': '{\"base_currency_value\": 10}', 'name': 'convert'}, 'type': 'function'}], 'refusal': None}, response_metadata={'token_usage': {'completion_tokens': 53, 'prompt_tokens': 123, 'total_tokens': 176, 'completion_tokens_details': {'accepted_prediction_tokens': 0, 'audio_tokens': 0, 'reasoning_tokens': 0, 'rejected_prediction_tokens': 0}, 'prompt_tokens_details': {'audio_tokens': 0, 'cached_tokens': 0}}, 'model_name': 'gpt-3.5-turbo-0125', 'system_fingerprint': None, 'id': 'chatcmpl-BQIoYbTa4RnV56fFG7Quuc91j9dWa', 'finish_reason': 'tool_calls', 'logprobs': None}, id='run-59a18913-a022-4d97-8bb4-ab24162c3600-0', tool_calls=[{'name': 'get_conversion_factor', 'args': {'base_currency': 'INR', 'target_currency': 'USD'}, 'id': 'call_4HlgaemYudEGQJhUrSY5bowr', 'type': 'tool_call'}, {'name': 'convert', 'args': {'base_currency_value': 10, 'conversion_rate': 0.01172}, 'id': 'call_OIwDuBk0uaetu1PC1ZH8KAs8', 'type': 'tool_call'}], usage_metadata={'input_tokens': 123, 'output_tokens': 53, 'total_tokens': 176, 'input_token_details': {'audio': 0, 'cache_read': 0}, 'output_token_details': {'audio': 0, 'reasoning': 0}}),\n",
              " ToolMessage(content='{\"result\": \"success\", \"documentation\": \"https://www.exchangerate-api.com/docs\", \"terms_of_use\": \"https://www.exchangerate-api.com/terms\", \"time_last_update_unix\": 1745539201, \"time_last_update_utc\": \"Fri, 25 Apr 2025 00:00:01 +0000\", \"time_next_update_unix\": 1745625601, \"time_next_update_utc\": \"Sat, 26 Apr 2025 00:00:01 +0000\", \"base_code\": \"INR\", \"target_code\": \"USD\", \"conversion_rate\": 0.01172}', name='get_conversion_factor', tool_call_id='call_4HlgaemYudEGQJhUrSY5bowr'),\n",
              " ToolMessage(content='0.1172', name='convert', tool_call_id='call_OIwDuBk0uaetu1PC1ZH8KAs8')]"
            ]
          },
          "metadata": {},
          "execution_count": 71
        }
      ]
    },
    {
      "cell_type": "code",
      "source": [
        "llm_with_tools.invoke(messages).content"
      ],
      "metadata": {
        "colab": {
          "base_uri": "https://localhost:8080/",
          "height": 35
        },
        "id": "Nit6VQf8Xo0A",
        "outputId": "b3547ac1-bbc5-4e5b-cb91-c29e14403bb3"
      },
      "execution_count": null,
      "outputs": [
        {
          "output_type": "execute_result",
          "data": {
            "text/plain": [
              "'The conversion factor between INR and USD is 0.01172. \\n\\nBased on this conversion factor, 10 INR is equal to 0.1172 USD.'"
            ],
            "application/vnd.google.colaboratory.intrinsic+json": {
              "type": "string"
            }
          },
          "metadata": {},
          "execution_count": 72
        }
      ]
    },
    {
      "cell_type": "code",
      "source": [],
      "metadata": {
        "id": "qS59eqAbX-9d"
      },
      "execution_count": null,
      "outputs": []
    }
  ]
}